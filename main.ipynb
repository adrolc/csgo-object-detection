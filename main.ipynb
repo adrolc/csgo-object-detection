{
 "cells": [
  {
   "cell_type": "markdown",
   "metadata": {},
   "source": [
    "# Data\n",
    "my [dataset](https://drive.google.com/file/d/1_hst-X-Fev1SCC0NgSKaCgTQoRoGUo3s/view?usp=sharing)\n",
    "\n",
    "[train custom data guide](https://docs.ultralytics.com/tutorials/train-custom-datasets/)\n"
   ]
  },
  {
   "cell_type": "markdown",
   "metadata": {},
   "source": [
    "# Setup\n",
    "\n",
    "*☝ Run in google colab and set runtime type to GPU*\n",
    "\n",
    "Clone GitHub [repository](https://github.com/ultralytics/yolov5), install [dependencies](https://github.com/ultralytics/yolov5/blob/master/requirements.txt) and check PyTorch and GPU."
   ]
  },
  {
   "cell_type": "code",
   "execution_count": 13,
   "metadata": {},
   "outputs": [],
   "source": [
    "!git clone https://github.com/ultralytics/yolov5  # clone\n",
    "%cd yolov5\n",
    "%pip install -qr requirements.txt  # install\n",
    "\n",
    "import torch\n",
    "import utils\n",
    "display = utils.notebook_init()  # checks"
   ]
  },
  {
   "cell_type": "markdown",
   "metadata": {},
   "source": [
    "# Unzip dataset\n",
    "\n",
    "download the dataset and upload to your google drive then unzip archive"
   ]
  },
  {
   "cell_type": "code",
   "execution_count": 12,
   "metadata": {},
   "outputs": [],
   "source": [
    "!unzip -q /content/drive/MyDrive/csgo_dataset/csgo_dataset.zip -d ../"
   ]
  },
  {
   "cell_type": "markdown",
   "metadata": {},
   "source": [
    "# Train\n",
    "\n",
    "put csgo.yaml file in yolov5 directory then set paths in it to data\n",
    "\n",
    "prepared file `csgo.yaml` is in `data/csgo.yaml`"
   ]
  },
  {
   "cell_type": "code",
   "execution_count": null,
   "metadata": {},
   "outputs": [],
   "source": [
    "!python train.py --img 640 --batch 16 --epochs 300 --data csgo.yaml --weights yolov5s.pt --cache --project /content/drive/MyDrive/csgo_model"
   ]
  }
 ],
 "metadata": {
  "kernelspec": {
   "display_name": "Python 3.10.5 ('.venv': venv)",
   "language": "python",
   "name": "python3"
  },
  "language_info": {
   "codemirror_mode": {
    "name": "ipython",
    "version": 3
   },
   "file_extension": ".py",
   "mimetype": "text/x-python",
   "name": "python",
   "nbconvert_exporter": "python",
   "pygments_lexer": "ipython3",
   "version": "3.10.5"
  },
  "orig_nbformat": 4,
  "vscode": {
   "interpreter": {
    "hash": "081e6e0a7dc613366e1489465d0ea384509fd9f10891833b0a7e8a9f09c85956"
   }
  }
 },
 "nbformat": 4,
 "nbformat_minor": 2
}
